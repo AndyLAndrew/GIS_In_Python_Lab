{
 "cells": [
  {
   "cell_type": "code",
   "execution_count": 1,
   "outputs": [],
   "source": [
    "import pandas as pd, numpy as np"
   ],
   "metadata": {
    "collapsed": false,
    "pycharm": {
     "name": "#%%\n"
    }
   }
  },
  {
   "cell_type": "markdown",
   "metadata": {
    "collapsed": true,
    "pycharm": {
     "name": "#%% md\n"
    }
   },
   "source": [
    "# ArcGIS in Python\n",
    "*Adapted from 2022 Summer CSS*\n",
    "\n",
    "Today we are going to try using ArcGIS in Python!"
   ]
  },
  {
   "cell_type": "markdown",
   "source": [
    "## Setting Up\n",
    "To begin we will need to install arcgis"
   ],
   "metadata": {
    "collapsed": false,
    "pycharm": {
     "name": "#%% md\n"
    }
   }
  },
  {
   "cell_type": "code",
   "execution_count": 2,
   "outputs": [
    {
     "name": "stdout",
     "output_type": "stream",
     "text": [
      "Requirement already satisfied: arcgis in /Users/Andrew/Documents/Projects/Code/Python/Python/lib/python3.9/site-packages (2.1.0.3)\r\n",
      "Requirement already satisfied: pandas>=1.3.5 in /Users/Andrew/Documents/Projects/Code/Python/Python/lib/python3.9/site-packages (from arcgis) (1.5.0)\r\n",
      "Requirement already satisfied: notebook in /Users/Andrew/Documents/Projects/Code/Python/Python/lib/python3.9/site-packages (from arcgis) (6.4.12)\r\n",
      "Requirement already satisfied: widgetsnbextension>=3 in /Users/Andrew/Documents/Projects/Code/Python/Python/lib/python3.9/site-packages (from arcgis) (3.5.2)\r\n",
      "Requirement already satisfied: cachetools in /Users/Andrew/Documents/Projects/Code/Python/Python/lib/python3.9/site-packages (from arcgis) (5.3.1)\r\n",
      "Requirement already satisfied: ujson>=3 in /Users/Andrew/Documents/Projects/Code/Python/Python/lib/python3.9/site-packages (from arcgis) (5.8.0)\r\n",
      "Requirement already satisfied: gssapi in /Users/Andrew/Documents/Projects/Code/Python/Python/lib/python3.9/site-packages (from arcgis) (1.8.2)\r\n",
      "Requirement already satisfied: jupyter-client<=6.1.12 in /Users/Andrew/Documents/Projects/Code/Python/Python/lib/python3.9/site-packages (from arcgis) (6.1.12)\r\n",
      "Requirement already satisfied: dask in /Users/Andrew/Documents/Projects/Code/Python/Python/lib/python3.9/site-packages (from arcgis) (2023.8.0)\r\n",
      "Requirement already satisfied: requests>=2.27.1 in /Users/Andrew/Documents/Projects/Code/Python/Python/lib/python3.9/site-packages (from arcgis) (2.28.1)\r\n",
      "Requirement already satisfied: urllib3 in /Users/Andrew/Documents/Projects/Code/Python/Python/lib/python3.9/site-packages (from arcgis) (1.26.12)\r\n",
      "Requirement already satisfied: pillow in /Users/Andrew/Documents/Projects/Code/Python/Python/lib/python3.9/site-packages (from arcgis) (9.2.0)\r\n",
      "Requirement already satisfied: lxml in /Users/Andrew/Documents/Projects/Code/Python/Python/lib/python3.9/site-packages (from arcgis) (4.9.3)\r\n",
      "Requirement already satisfied: pyshp>=2 in /Users/Andrew/Documents/Projects/Code/Python/Python/lib/python3.9/site-packages (from arcgis) (2.3.1)\r\n",
      "Requirement already satisfied: six in /Users/Andrew/Documents/Projects/Code/Python/Python/lib/python3.9/site-packages (from arcgis) (1.16.0)\r\n",
      "Requirement already satisfied: matplotlib in /Users/Andrew/Documents/Projects/Code/Python/Python/lib/python3.9/site-packages (from arcgis) (3.6.2)\r\n",
      "Requirement already satisfied: cryptography in /Users/Andrew/Documents/Projects/Code/Python/Python/lib/python3.9/site-packages (from arcgis) (41.0.3)\r\n",
      "Requirement already satisfied: geomet in /Users/Andrew/Documents/Projects/Code/Python/Python/lib/python3.9/site-packages (from arcgis) (1.0.0)\r\n",
      "Requirement already satisfied: requests-gssapi in /Users/Andrew/Documents/Projects/Code/Python/Python/lib/python3.9/site-packages (from arcgis) (1.2.3)\r\n",
      "Requirement already satisfied: ipywidgets>=7 in /Users/Andrew/Documents/Projects/Code/Python/Python/lib/python3.9/site-packages (from arcgis) (7.6.0)\r\n",
      "Requirement already satisfied: keyring>=23.3.0 in /Users/Andrew/Documents/Projects/Code/Python/Python/lib/python3.9/site-packages (from arcgis) (24.2.0)\r\n",
      "Requirement already satisfied: jupyterlab in /Users/Andrew/Documents/Projects/Code/Python/Python/lib/python3.9/site-packages (from arcgis) (3.6.5)\r\n",
      "Requirement already satisfied: numpy>=1.16.2 in /Users/Andrew/Documents/Projects/Code/Python/Python/lib/python3.9/site-packages (from arcgis) (1.23.3)\r\n",
      "Requirement already satisfied: python-certifi-win32 in /Users/Andrew/Documents/Projects/Code/Python/Python/lib/python3.9/site-packages (from arcgis) (1.6.1)\r\n",
      "Requirement already satisfied: requests-toolbelt in /Users/Andrew/Documents/Projects/Code/Python/Python/lib/python3.9/site-packages (from arcgis) (1.0.0)\r\n",
      "Requirement already satisfied: lerc in /Users/Andrew/Documents/Projects/Code/Python/Python/lib/python3.9/site-packages (from arcgis) (4.0.1)\r\n",
      "Requirement already satisfied: requests-oauthlib in /Users/Andrew/Documents/Projects/Code/Python/Python/lib/python3.9/site-packages (from arcgis) (1.3.1)\r\n",
      "Requirement already satisfied: decorator in /Users/Andrew/Documents/Projects/Code/Python/Python/lib/python3.9/site-packages (from gssapi->arcgis) (5.1.1)\r\n",
      "Requirement already satisfied: ipykernel>=4.5.1 in /Users/Andrew/Documents/Projects/Code/Python/Python/lib/python3.9/site-packages (from ipywidgets>=7->arcgis) (6.16.0)\r\n",
      "Requirement already satisfied: nbformat>=4.2.0 in /Users/Andrew/Documents/Projects/Code/Python/Python/lib/python3.9/site-packages (from ipywidgets>=7->arcgis) (5.6.1)\r\n",
      "Requirement already satisfied: jupyterlab-widgets>=1.0.0 in /Users/Andrew/Documents/Projects/Code/Python/Python/lib/python3.9/site-packages (from ipywidgets>=7->arcgis) (3.0.3)\r\n",
      "Requirement already satisfied: ipython>=4.0.0 in /Users/Andrew/Documents/Projects/Code/Python/Python/lib/python3.9/site-packages (from ipywidgets>=7->arcgis) (8.5.0)\r\n",
      "Requirement already satisfied: traitlets>=4.3.1 in /Users/Andrew/Documents/Projects/Code/Python/Python/lib/python3.9/site-packages (from ipywidgets>=7->arcgis) (5.4.0)\r\n",
      "Requirement already satisfied: tornado>=4.1 in /Users/Andrew/Documents/Projects/Code/Python/Python/lib/python3.9/site-packages (from jupyter-client<=6.1.12->arcgis) (6.2)\r\n",
      "Requirement already satisfied: python-dateutil>=2.1 in /Users/Andrew/Documents/Projects/Code/Python/Python/lib/python3.9/site-packages (from jupyter-client<=6.1.12->arcgis) (2.8.2)\r\n",
      "Requirement already satisfied: pyzmq>=13 in /Users/Andrew/Documents/Projects/Code/Python/Python/lib/python3.9/site-packages (from jupyter-client<=6.1.12->arcgis) (24.0.1)\r\n",
      "Requirement already satisfied: jupyter-core>=4.6.0 in /Users/Andrew/Documents/Projects/Code/Python/Python/lib/python3.9/site-packages (from jupyter-client<=6.1.12->arcgis) (5.3.1)\r\n",
      "Requirement already satisfied: importlib-metadata>=4.11.4 in /Users/Andrew/Documents/Projects/Code/Python/Python/lib/python3.9/site-packages (from keyring>=23.3.0->arcgis) (5.0.0)\r\n",
      "Requirement already satisfied: jaraco.classes in /Users/Andrew/Documents/Projects/Code/Python/Python/lib/python3.9/site-packages (from keyring>=23.3.0->arcgis) (3.3.0)\r\n",
      "Requirement already satisfied: pytz>=2020.1 in /Users/Andrew/Documents/Projects/Code/Python/Python/lib/python3.9/site-packages (from pandas>=1.3.5->arcgis) (2022.4)\r\n",
      "Requirement already satisfied: certifi>=2017.4.17 in /Users/Andrew/Documents/Projects/Code/Python/Python/lib/python3.9/site-packages (from requests>=2.27.1->arcgis) (2022.9.24)\r\n",
      "Requirement already satisfied: idna<4,>=2.5 in /Users/Andrew/Documents/Projects/Code/Python/Python/lib/python3.9/site-packages (from requests>=2.27.1->arcgis) (3.4)\r\n",
      "Requirement already satisfied: charset-normalizer<3,>=2 in /Users/Andrew/Documents/Projects/Code/Python/Python/lib/python3.9/site-packages (from requests>=2.27.1->arcgis) (2.1.1)\r\n",
      "Requirement already satisfied: prometheus-client in /Users/Andrew/Documents/Projects/Code/Python/Python/lib/python3.9/site-packages (from notebook->arcgis) (0.14.1)\r\n",
      "Requirement already satisfied: ipython-genutils in /Users/Andrew/Documents/Projects/Code/Python/Python/lib/python3.9/site-packages (from notebook->arcgis) (0.2.0)\r\n",
      "Requirement already satisfied: nbconvert>=5 in /Users/Andrew/Documents/Projects/Code/Python/Python/lib/python3.9/site-packages (from notebook->arcgis) (7.2.1)\r\n",
      "Requirement already satisfied: terminado>=0.8.3 in /Users/Andrew/Documents/Projects/Code/Python/Python/lib/python3.9/site-packages (from notebook->arcgis) (0.16.0)\r\n",
      "Requirement already satisfied: jinja2 in /Users/Andrew/Documents/Projects/Code/Python/Python/lib/python3.9/site-packages (from notebook->arcgis) (3.1.2)\r\n",
      "Requirement already satisfied: Send2Trash>=1.8.0 in /Users/Andrew/Documents/Projects/Code/Python/Python/lib/python3.9/site-packages (from notebook->arcgis) (1.8.0)\r\n",
      "Requirement already satisfied: argon2-cffi in /Users/Andrew/Documents/Projects/Code/Python/Python/lib/python3.9/site-packages (from notebook->arcgis) (21.3.0)\r\n",
      "Requirement already satisfied: nest-asyncio>=1.5 in /Users/Andrew/Documents/Projects/Code/Python/Python/lib/python3.9/site-packages (from notebook->arcgis) (1.5.6)\r\n",
      "Requirement already satisfied: cffi>=1.12 in /Users/Andrew/Documents/Projects/Code/Python/Python/lib/python3.9/site-packages (from cryptography->arcgis) (1.15.1)\r\n",
      "Requirement already satisfied: pyyaml>=5.3.1 in /Users/Andrew/Documents/Projects/Code/Python/Python/lib/python3.9/site-packages (from dask->arcgis) (6.0.1)\r\n",
      "Requirement already satisfied: partd>=1.2.0 in /Users/Andrew/Documents/Projects/Code/Python/Python/lib/python3.9/site-packages (from dask->arcgis) (1.4.0)\r\n",
      "Requirement already satisfied: click>=8.0 in /Users/Andrew/Documents/Projects/Code/Python/Python/lib/python3.9/site-packages (from dask->arcgis) (8.1.3)\r\n",
      "Requirement already satisfied: fsspec>=2021.09.0 in /Users/Andrew/Documents/Projects/Code/Python/Python/lib/python3.9/site-packages (from dask->arcgis) (2023.6.0)\r\n",
      "Requirement already satisfied: packaging>=20.0 in /Users/Andrew/Documents/Projects/Code/Python/Python/lib/python3.9/site-packages (from dask->arcgis) (21.3)\r\n",
      "Requirement already satisfied: toolz>=0.10.0 in /Users/Andrew/Documents/Projects/Code/Python/Python/lib/python3.9/site-packages (from dask->arcgis) (0.12.0)\r\n",
      "Requirement already satisfied: cloudpickle>=1.5.0 in /Users/Andrew/Documents/Projects/Code/Python/Python/lib/python3.9/site-packages (from dask->arcgis) (2.2.1)\r\n",
      "Requirement already satisfied: jupyterlab-server~=2.19 in /Users/Andrew/Documents/Projects/Code/Python/Python/lib/python3.9/site-packages (from jupyterlab->arcgis) (2.24.0)\r\n",
      "Requirement already satisfied: jupyter-server<3,>=1.16.0 in /Users/Andrew/Documents/Projects/Code/Python/Python/lib/python3.9/site-packages (from jupyterlab->arcgis) (1.24.0)\r\n",
      "Requirement already satisfied: jupyter-server-ydoc~=0.8.0 in /Users/Andrew/Documents/Projects/Code/Python/Python/lib/python3.9/site-packages (from jupyterlab->arcgis) (0.8.0)\r\n",
      "Requirement already satisfied: nbclassic in /Users/Andrew/Documents/Projects/Code/Python/Python/lib/python3.9/site-packages (from jupyterlab->arcgis) (1.0.0)\r\n",
      "Requirement already satisfied: tomli in /Users/Andrew/Documents/Projects/Code/Python/Python/lib/python3.9/site-packages (from jupyterlab->arcgis) (2.0.1)\r\n",
      "Requirement already satisfied: jupyter-ydoc~=0.2.4 in /Users/Andrew/Documents/Projects/Code/Python/Python/lib/python3.9/site-packages (from jupyterlab->arcgis) (0.2.5)\r\n",
      "Requirement already satisfied: contourpy>=1.0.1 in /Users/Andrew/Documents/Projects/Code/Python/Python/lib/python3.9/site-packages (from matplotlib->arcgis) (1.0.6)\r\n",
      "Requirement already satisfied: kiwisolver>=1.0.1 in /Users/Andrew/Documents/Projects/Code/Python/Python/lib/python3.9/site-packages (from matplotlib->arcgis) (1.4.4)\r\n",
      "Requirement already satisfied: cycler>=0.10 in /Users/Andrew/Documents/Projects/Code/Python/Python/lib/python3.9/site-packages (from matplotlib->arcgis) (0.11.0)\r\n",
      "Requirement already satisfied: fonttools>=4.22.0 in /Users/Andrew/Documents/Projects/Code/Python/Python/lib/python3.9/site-packages (from matplotlib->arcgis) (4.38.0)\r\n",
      "Requirement already satisfied: pyparsing>=2.2.1 in /Users/Andrew/Documents/Projects/Code/Python/Python/lib/python3.9/site-packages (from matplotlib->arcgis) (3.0.9)\r\n",
      "Requirement already satisfied: setuptools-scm in /Users/Andrew/Documents/Projects/Code/Python/Python/lib/python3.9/site-packages (from python-certifi-win32->arcgis) (7.1.0)\r\n",
      "Requirement already satisfied: wrapt>=1.10.4 in /Users/Andrew/Documents/Projects/Code/Python/Python/lib/python3.9/site-packages (from python-certifi-win32->arcgis) (1.15.0)\r\n",
      "Requirement already satisfied: oauthlib>=3.0.0 in /Users/Andrew/Documents/Projects/Code/Python/Python/lib/python3.9/site-packages (from requests-oauthlib->arcgis) (3.2.2)\r\n",
      "Requirement already satisfied: pycparser in /Users/Andrew/Documents/Projects/Code/Python/Python/lib/python3.9/site-packages (from cffi>=1.12->cryptography->arcgis) (2.21)\r\n",
      "Requirement already satisfied: zipp>=0.5 in /Users/Andrew/Documents/Projects/Code/Python/Python/lib/python3.9/site-packages (from importlib-metadata>=4.11.4->keyring>=23.3.0->arcgis) (3.9.0)\r\n",
      "Requirement already satisfied: appnope in /Users/Andrew/Documents/Projects/Code/Python/Python/lib/python3.9/site-packages (from ipykernel>=4.5.1->ipywidgets>=7->arcgis) (0.1.3)\r\n",
      "Requirement already satisfied: debugpy>=1.0 in /Users/Andrew/Documents/Projects/Code/Python/Python/lib/python3.9/site-packages (from ipykernel>=4.5.1->ipywidgets>=7->arcgis) (1.6.3)\r\n",
      "Requirement already satisfied: matplotlib-inline>=0.1 in /Users/Andrew/Documents/Projects/Code/Python/Python/lib/python3.9/site-packages (from ipykernel>=4.5.1->ipywidgets>=7->arcgis) (0.1.6)\r\n",
      "Requirement already satisfied: psutil in /Users/Andrew/Documents/Projects/Code/Python/Python/lib/python3.9/site-packages (from ipykernel>=4.5.1->ipywidgets>=7->arcgis) (5.9.2)\r\n",
      "Requirement already satisfied: prompt-toolkit<3.1.0,>3.0.1 in /Users/Andrew/Documents/Projects/Code/Python/Python/lib/python3.9/site-packages (from ipython>=4.0.0->ipywidgets>=7->arcgis) (3.0.31)\r\n",
      "Requirement already satisfied: pygments>=2.4.0 in /Users/Andrew/Documents/Projects/Code/Python/Python/lib/python3.9/site-packages (from ipython>=4.0.0->ipywidgets>=7->arcgis) (2.13.0)\r\n",
      "Requirement already satisfied: backcall in /Users/Andrew/Documents/Projects/Code/Python/Python/lib/python3.9/site-packages (from ipython>=4.0.0->ipywidgets>=7->arcgis) (0.2.0)\r\n",
      "Requirement already satisfied: pickleshare in /Users/Andrew/Documents/Projects/Code/Python/Python/lib/python3.9/site-packages (from ipython>=4.0.0->ipywidgets>=7->arcgis) (0.7.5)\r\n",
      "Requirement already satisfied: stack-data in /Users/Andrew/Documents/Projects/Code/Python/Python/lib/python3.9/site-packages (from ipython>=4.0.0->ipywidgets>=7->arcgis) (0.5.1)\r\n",
      "Requirement already satisfied: pexpect>4.3 in /Users/Andrew/Documents/Projects/Code/Python/Python/lib/python3.9/site-packages (from ipython>=4.0.0->ipywidgets>=7->arcgis) (4.8.0)\r\n",
      "Requirement already satisfied: jedi>=0.16 in /Users/Andrew/Documents/Projects/Code/Python/Python/lib/python3.9/site-packages (from ipython>=4.0.0->ipywidgets>=7->arcgis) (0.18.1)\r\n",
      "Requirement already satisfied: MarkupSafe>=2.0 in /Users/Andrew/Documents/Projects/Code/Python/Python/lib/python3.9/site-packages (from jinja2->notebook->arcgis) (2.1.1)\r\n",
      "Requirement already satisfied: platformdirs>=2.5 in /Users/Andrew/Documents/Projects/Code/Python/Python/lib/python3.9/site-packages (from jupyter-core>=4.6.0->jupyter-client<=6.1.12->arcgis) (3.10.0)\r\n",
      "Requirement already satisfied: anyio<4,>=3.1.0 in /Users/Andrew/Documents/Projects/Code/Python/Python/lib/python3.9/site-packages (from jupyter-server<3,>=1.16.0->jupyterlab->arcgis) (3.7.1)\r\n",
      "Requirement already satisfied: websocket-client in /Users/Andrew/Documents/Projects/Code/Python/Python/lib/python3.9/site-packages (from jupyter-server<3,>=1.16.0->jupyterlab->arcgis) (1.6.1)\r\n",
      "Requirement already satisfied: ypy-websocket<0.9.0,>=0.8.2 in /Users/Andrew/Documents/Projects/Code/Python/Python/lib/python3.9/site-packages (from jupyter-server-ydoc~=0.8.0->jupyterlab->arcgis) (0.8.4)\r\n",
      "Requirement already satisfied: jupyter-server-fileid<1,>=0.6.0 in /Users/Andrew/Documents/Projects/Code/Python/Python/lib/python3.9/site-packages (from jupyter-server-ydoc~=0.8.0->jupyterlab->arcgis) (0.9.0)\r\n",
      "Requirement already satisfied: y-py<0.7.0,>=0.6.0 in /Users/Andrew/Documents/Projects/Code/Python/Python/lib/python3.9/site-packages (from jupyter-ydoc~=0.2.4->jupyterlab->arcgis) (0.6.0)\r\n",
      "Requirement already satisfied: jsonschema>=4.17.3 in /Users/Andrew/Documents/Projects/Code/Python/Python/lib/python3.9/site-packages (from jupyterlab-server~=2.19->jupyterlab->arcgis) (4.19.0)\r\n",
      "Requirement already satisfied: json5>=0.9.0 in /Users/Andrew/Documents/Projects/Code/Python/Python/lib/python3.9/site-packages (from jupyterlab-server~=2.19->jupyterlab->arcgis) (0.9.14)\r\n",
      "Requirement already satisfied: babel>=2.10 in /Users/Andrew/Documents/Projects/Code/Python/Python/lib/python3.9/site-packages (from jupyterlab-server~=2.19->jupyterlab->arcgis) (2.12.1)\r\n",
      "Requirement already satisfied: beautifulsoup4 in /Users/Andrew/Documents/Projects/Code/Python/Python/lib/python3.9/site-packages (from nbconvert>=5->notebook->arcgis) (4.11.1)\r\n",
      "Requirement already satisfied: tinycss2 in /Users/Andrew/Documents/Projects/Code/Python/Python/lib/python3.9/site-packages (from nbconvert>=5->notebook->arcgis) (1.1.1)\r\n",
      "Requirement already satisfied: mistune<3,>=2.0.3 in /Users/Andrew/Documents/Projects/Code/Python/Python/lib/python3.9/site-packages (from nbconvert>=5->notebook->arcgis) (2.0.4)\r\n",
      "Requirement already satisfied: defusedxml in /Users/Andrew/Documents/Projects/Code/Python/Python/lib/python3.9/site-packages (from nbconvert>=5->notebook->arcgis) (0.7.1)\r\n",
      "Requirement already satisfied: nbclient>=0.5.0 in /Users/Andrew/Documents/Projects/Code/Python/Python/lib/python3.9/site-packages (from nbconvert>=5->notebook->arcgis) (0.7.0)\r\n",
      "Requirement already satisfied: bleach in /Users/Andrew/Documents/Projects/Code/Python/Python/lib/python3.9/site-packages (from nbconvert>=5->notebook->arcgis) (5.0.1)\r\n",
      "Requirement already satisfied: pandocfilters>=1.4.1 in /Users/Andrew/Documents/Projects/Code/Python/Python/lib/python3.9/site-packages (from nbconvert>=5->notebook->arcgis) (1.5.0)\r\n",
      "Requirement already satisfied: jupyterlab-pygments in /Users/Andrew/Documents/Projects/Code/Python/Python/lib/python3.9/site-packages (from nbconvert>=5->notebook->arcgis) (0.2.2)\r\n",
      "Requirement already satisfied: fastjsonschema in /Users/Andrew/Documents/Projects/Code/Python/Python/lib/python3.9/site-packages (from nbformat>=4.2.0->ipywidgets>=7->arcgis) (2.16.2)\r\n",
      "Requirement already satisfied: locket in /Users/Andrew/Documents/Projects/Code/Python/Python/lib/python3.9/site-packages (from partd>=1.2.0->dask->arcgis) (1.0.0)\r\n",
      "Requirement already satisfied: ptyprocess in /Users/Andrew/Documents/Projects/Code/Python/Python/lib/python3.9/site-packages (from terminado>=0.8.3->notebook->arcgis) (0.7.0)\r\n",
      "Requirement already satisfied: argon2-cffi-bindings in /Users/Andrew/Documents/Projects/Code/Python/Python/lib/python3.9/site-packages (from argon2-cffi->notebook->arcgis) (21.2.0)\r\n",
      "Requirement already satisfied: more-itertools in /Users/Andrew/Documents/Projects/Code/Python/Python/lib/python3.9/site-packages (from jaraco.classes->keyring>=23.3.0->arcgis) (10.1.0)\r\n",
      "Requirement already satisfied: notebook-shim>=0.2.3 in /Users/Andrew/Documents/Projects/Code/Python/Python/lib/python3.9/site-packages (from nbclassic->jupyterlab->arcgis) (0.2.3)\r\n",
      "Requirement already satisfied: setuptools in /Users/Andrew/Documents/Projects/Code/Python/Python/lib/python3.9/site-packages (from setuptools-scm->python-certifi-win32->arcgis) (65.5.1)\r\n",
      "Requirement already satisfied: typing-extensions in /Users/Andrew/Documents/Projects/Code/Python/Python/lib/python3.9/site-packages (from setuptools-scm->python-certifi-win32->arcgis) (4.4.0)\r\n",
      "Requirement already satisfied: sniffio>=1.1 in /Users/Andrew/Documents/Projects/Code/Python/Python/lib/python3.9/site-packages (from anyio<4,>=3.1.0->jupyter-server<3,>=1.16.0->jupyterlab->arcgis) (1.3.0)\r\n",
      "Requirement already satisfied: exceptiongroup in /Users/Andrew/Documents/Projects/Code/Python/Python/lib/python3.9/site-packages (from anyio<4,>=3.1.0->jupyter-server<3,>=1.16.0->jupyterlab->arcgis) (1.1.3)\r\n",
      "Requirement already satisfied: parso<0.9.0,>=0.8.0 in /Users/Andrew/Documents/Projects/Code/Python/Python/lib/python3.9/site-packages (from jedi>=0.16->ipython>=4.0.0->ipywidgets>=7->arcgis) (0.8.3)\r\n",
      "Requirement already satisfied: referencing>=0.28.4 in /Users/Andrew/Documents/Projects/Code/Python/Python/lib/python3.9/site-packages (from jsonschema>=4.17.3->jupyterlab-server~=2.19->jupyterlab->arcgis) (0.30.2)\r\n",
      "Requirement already satisfied: rpds-py>=0.7.1 in /Users/Andrew/Documents/Projects/Code/Python/Python/lib/python3.9/site-packages (from jsonschema>=4.17.3->jupyterlab-server~=2.19->jupyterlab->arcgis) (0.9.2)\r\n",
      "Requirement already satisfied: attrs>=22.2.0 in /Users/Andrew/Documents/Projects/Code/Python/Python/lib/python3.9/site-packages (from jsonschema>=4.17.3->jupyterlab-server~=2.19->jupyterlab->arcgis) (23.1.0)\r\n",
      "Requirement already satisfied: jsonschema-specifications>=2023.03.6 in /Users/Andrew/Documents/Projects/Code/Python/Python/lib/python3.9/site-packages (from jsonschema>=4.17.3->jupyterlab-server~=2.19->jupyterlab->arcgis) (2023.7.1)\r\n",
      "Requirement already satisfied: jupyter-events>=0.5.0 in /Users/Andrew/Documents/Projects/Code/Python/Python/lib/python3.9/site-packages (from jupyter-server-fileid<1,>=0.6.0->jupyter-server-ydoc~=0.8.0->jupyterlab->arcgis) (0.7.0)\r\n",
      "Requirement already satisfied: wcwidth in /Users/Andrew/Documents/Projects/Code/Python/Python/lib/python3.9/site-packages (from prompt-toolkit<3.1.0,>3.0.1->ipython>=4.0.0->ipywidgets>=7->arcgis) (0.2.5)\r\n",
      "Requirement already satisfied: aiofiles<23,>=22.1.0 in /Users/Andrew/Documents/Projects/Code/Python/Python/lib/python3.9/site-packages (from ypy-websocket<0.9.0,>=0.8.2->jupyter-server-ydoc~=0.8.0->jupyterlab->arcgis) (22.1.0)\r\n",
      "Requirement already satisfied: aiosqlite<1,>=0.17.0 in /Users/Andrew/Documents/Projects/Code/Python/Python/lib/python3.9/site-packages (from ypy-websocket<0.9.0,>=0.8.2->jupyter-server-ydoc~=0.8.0->jupyterlab->arcgis) (0.19.0)\r\n",
      "Requirement already satisfied: soupsieve>1.2 in /Users/Andrew/Documents/Projects/Code/Python/Python/lib/python3.9/site-packages (from beautifulsoup4->nbconvert>=5->notebook->arcgis) (2.3.2.post1)\r\n",
      "Requirement already satisfied: webencodings in /Users/Andrew/Documents/Projects/Code/Python/Python/lib/python3.9/site-packages (from bleach->nbconvert>=5->notebook->arcgis) (0.5.1)\r\n",
      "Requirement already satisfied: executing in /Users/Andrew/Documents/Projects/Code/Python/Python/lib/python3.9/site-packages (from stack-data->ipython>=4.0.0->ipywidgets>=7->arcgis) (1.1.1)\r\n",
      "Requirement already satisfied: pure-eval in /Users/Andrew/Documents/Projects/Code/Python/Python/lib/python3.9/site-packages (from stack-data->ipython>=4.0.0->ipywidgets>=7->arcgis) (0.2.2)\r\n",
      "Requirement already satisfied: asttokens in /Users/Andrew/Documents/Projects/Code/Python/Python/lib/python3.9/site-packages (from stack-data->ipython>=4.0.0->ipywidgets>=7->arcgis) (2.0.8)\r\n",
      "Requirement already satisfied: python-json-logger>=2.0.4 in /Users/Andrew/Documents/Projects/Code/Python/Python/lib/python3.9/site-packages (from jupyter-events>=0.5.0->jupyter-server-fileid<1,>=0.6.0->jupyter-server-ydoc~=0.8.0->jupyterlab->arcgis) (2.0.7)\r\n",
      "Requirement already satisfied: rfc3986-validator>=0.1.1 in /Users/Andrew/Documents/Projects/Code/Python/Python/lib/python3.9/site-packages (from jupyter-events>=0.5.0->jupyter-server-fileid<1,>=0.6.0->jupyter-server-ydoc~=0.8.0->jupyterlab->arcgis) (0.1.1)\r\n",
      "Requirement already satisfied: rfc3339-validator in /Users/Andrew/Documents/Projects/Code/Python/Python/lib/python3.9/site-packages (from jupyter-events>=0.5.0->jupyter-server-fileid<1,>=0.6.0->jupyter-server-ydoc~=0.8.0->jupyterlab->arcgis) (0.1.4)\r\n",
      "Requirement already satisfied: uri-template in /Users/Andrew/Documents/Projects/Code/Python/Python/lib/python3.9/site-packages (from jsonschema>=4.17.3->jupyterlab-server~=2.19->jupyterlab->arcgis) (1.3.0)\r\n",
      "Requirement already satisfied: jsonpointer>1.13 in /Users/Andrew/Documents/Projects/Code/Python/Python/lib/python3.9/site-packages (from jsonschema>=4.17.3->jupyterlab-server~=2.19->jupyterlab->arcgis) (2.4)\r\n",
      "Requirement already satisfied: fqdn in /Users/Andrew/Documents/Projects/Code/Python/Python/lib/python3.9/site-packages (from jsonschema>=4.17.3->jupyterlab-server~=2.19->jupyterlab->arcgis) (1.5.1)\r\n",
      "Requirement already satisfied: webcolors>=1.11 in /Users/Andrew/Documents/Projects/Code/Python/Python/lib/python3.9/site-packages (from jsonschema>=4.17.3->jupyterlab-server~=2.19->jupyterlab->arcgis) (1.13)\r\n",
      "Requirement already satisfied: isoduration in /Users/Andrew/Documents/Projects/Code/Python/Python/lib/python3.9/site-packages (from jsonschema>=4.17.3->jupyterlab-server~=2.19->jupyterlab->arcgis) (20.11.0)\r\n",
      "Requirement already satisfied: arrow>=0.15.0 in /Users/Andrew/Documents/Projects/Code/Python/Python/lib/python3.9/site-packages (from isoduration->jsonschema>=4.17.3->jupyterlab-server~=2.19->jupyterlab->arcgis) (1.2.3)\r\n",
      "\r\n",
      "\u001B[1m[\u001B[0m\u001B[34;49mnotice\u001B[0m\u001B[1;39;49m]\u001B[0m\u001B[39;49m A new release of pip available: \u001B[0m\u001B[31;49m22.3.1\u001B[0m\u001B[39;49m -> \u001B[0m\u001B[32;49m23.2.1\u001B[0m\r\n",
      "\u001B[1m[\u001B[0m\u001B[34;49mnotice\u001B[0m\u001B[1;39;49m]\u001B[0m\u001B[39;49m To update, run: \u001B[0m\u001B[32;49mpip install --upgrade pip\u001B[0m\r\n"
     ]
    }
   ],
   "source": [
    "# installing arcgis library\n",
    "# this may take some time depending on how many dependencies are needed\n",
    "!pip install arcgis"
   ],
   "metadata": {
    "collapsed": false,
    "pycharm": {
     "name": "#%%\n"
    }
   }
  },
  {
   "cell_type": "code",
   "execution_count": 3,
   "outputs": [
    {
     "name": "stdout",
     "output_type": "stream",
     "text": [
      "Requirement already satisfied: ipywidgets in /Users/Andrew/Documents/Projects/Code/Python/Python/lib/python3.9/site-packages (7.6.0)\r\n",
      "Requirement already satisfied: ipykernel>=4.5.1 in /Users/Andrew/Documents/Projects/Code/Python/Python/lib/python3.9/site-packages (from ipywidgets) (6.16.0)\r\n",
      "Requirement already satisfied: nbformat>=4.2.0 in /Users/Andrew/Documents/Projects/Code/Python/Python/lib/python3.9/site-packages (from ipywidgets) (5.6.1)\r\n",
      "Requirement already satisfied: ipython>=4.0.0 in /Users/Andrew/Documents/Projects/Code/Python/Python/lib/python3.9/site-packages (from ipywidgets) (8.5.0)\r\n",
      "Requirement already satisfied: traitlets>=4.3.1 in /Users/Andrew/Documents/Projects/Code/Python/Python/lib/python3.9/site-packages (from ipywidgets) (5.4.0)\r\n",
      "Requirement already satisfied: widgetsnbextension~=3.5.0 in /Users/Andrew/Documents/Projects/Code/Python/Python/lib/python3.9/site-packages (from ipywidgets) (3.5.2)\r\n",
      "Requirement already satisfied: jupyterlab-widgets>=1.0.0 in /Users/Andrew/Documents/Projects/Code/Python/Python/lib/python3.9/site-packages (from ipywidgets) (3.0.3)\r\n",
      "Requirement already satisfied: nest-asyncio in /Users/Andrew/Documents/Projects/Code/Python/Python/lib/python3.9/site-packages (from ipykernel>=4.5.1->ipywidgets) (1.5.6)\r\n",
      "Requirement already satisfied: pyzmq>=17 in /Users/Andrew/Documents/Projects/Code/Python/Python/lib/python3.9/site-packages (from ipykernel>=4.5.1->ipywidgets) (24.0.1)\r\n",
      "Requirement already satisfied: tornado>=6.1 in /Users/Andrew/Documents/Projects/Code/Python/Python/lib/python3.9/site-packages (from ipykernel>=4.5.1->ipywidgets) (6.2)\r\n",
      "Requirement already satisfied: debugpy>=1.0 in /Users/Andrew/Documents/Projects/Code/Python/Python/lib/python3.9/site-packages (from ipykernel>=4.5.1->ipywidgets) (1.6.3)\r\n",
      "Requirement already satisfied: psutil in /Users/Andrew/Documents/Projects/Code/Python/Python/lib/python3.9/site-packages (from ipykernel>=4.5.1->ipywidgets) (5.9.2)\r\n",
      "Requirement already satisfied: appnope in /Users/Andrew/Documents/Projects/Code/Python/Python/lib/python3.9/site-packages (from ipykernel>=4.5.1->ipywidgets) (0.1.3)\r\n",
      "Requirement already satisfied: matplotlib-inline>=0.1 in /Users/Andrew/Documents/Projects/Code/Python/Python/lib/python3.9/site-packages (from ipykernel>=4.5.1->ipywidgets) (0.1.6)\r\n",
      "Requirement already satisfied: jupyter-client>=6.1.12 in /Users/Andrew/Documents/Projects/Code/Python/Python/lib/python3.9/site-packages (from ipykernel>=4.5.1->ipywidgets) (6.1.12)\r\n",
      "Requirement already satisfied: packaging in /Users/Andrew/Documents/Projects/Code/Python/Python/lib/python3.9/site-packages (from ipykernel>=4.5.1->ipywidgets) (21.3)\r\n",
      "Requirement already satisfied: prompt-toolkit<3.1.0,>3.0.1 in /Users/Andrew/Documents/Projects/Code/Python/Python/lib/python3.9/site-packages (from ipython>=4.0.0->ipywidgets) (3.0.31)\r\n",
      "Requirement already satisfied: decorator in /Users/Andrew/Documents/Projects/Code/Python/Python/lib/python3.9/site-packages (from ipython>=4.0.0->ipywidgets) (5.1.1)\r\n",
      "Requirement already satisfied: backcall in /Users/Andrew/Documents/Projects/Code/Python/Python/lib/python3.9/site-packages (from ipython>=4.0.0->ipywidgets) (0.2.0)\r\n",
      "Requirement already satisfied: pickleshare in /Users/Andrew/Documents/Projects/Code/Python/Python/lib/python3.9/site-packages (from ipython>=4.0.0->ipywidgets) (0.7.5)\r\n",
      "Requirement already satisfied: pexpect>4.3 in /Users/Andrew/Documents/Projects/Code/Python/Python/lib/python3.9/site-packages (from ipython>=4.0.0->ipywidgets) (4.8.0)\r\n",
      "Requirement already satisfied: pygments>=2.4.0 in /Users/Andrew/Documents/Projects/Code/Python/Python/lib/python3.9/site-packages (from ipython>=4.0.0->ipywidgets) (2.13.0)\r\n",
      "Requirement already satisfied: jedi>=0.16 in /Users/Andrew/Documents/Projects/Code/Python/Python/lib/python3.9/site-packages (from ipython>=4.0.0->ipywidgets) (0.18.1)\r\n",
      "Requirement already satisfied: stack-data in /Users/Andrew/Documents/Projects/Code/Python/Python/lib/python3.9/site-packages (from ipython>=4.0.0->ipywidgets) (0.5.1)\r\n",
      "Requirement already satisfied: jsonschema>=2.6 in /Users/Andrew/Documents/Projects/Code/Python/Python/lib/python3.9/site-packages (from nbformat>=4.2.0->ipywidgets) (4.19.0)\r\n",
      "Requirement already satisfied: fastjsonschema in /Users/Andrew/Documents/Projects/Code/Python/Python/lib/python3.9/site-packages (from nbformat>=4.2.0->ipywidgets) (2.16.2)\r\n",
      "Requirement already satisfied: jupyter-core in /Users/Andrew/Documents/Projects/Code/Python/Python/lib/python3.9/site-packages (from nbformat>=4.2.0->ipywidgets) (5.3.1)\r\n",
      "Requirement already satisfied: notebook>=4.4.1 in /Users/Andrew/Documents/Projects/Code/Python/Python/lib/python3.9/site-packages (from widgetsnbextension~=3.5.0->ipywidgets) (6.4.12)\r\n",
      "Requirement already satisfied: parso<0.9.0,>=0.8.0 in /Users/Andrew/Documents/Projects/Code/Python/Python/lib/python3.9/site-packages (from jedi>=0.16->ipython>=4.0.0->ipywidgets) (0.8.3)\r\n",
      "Requirement already satisfied: attrs>=22.2.0 in /Users/Andrew/Documents/Projects/Code/Python/Python/lib/python3.9/site-packages (from jsonschema>=2.6->nbformat>=4.2.0->ipywidgets) (23.1.0)\r\n",
      "Requirement already satisfied: referencing>=0.28.4 in /Users/Andrew/Documents/Projects/Code/Python/Python/lib/python3.9/site-packages (from jsonschema>=2.6->nbformat>=4.2.0->ipywidgets) (0.30.2)\r\n",
      "Requirement already satisfied: jsonschema-specifications>=2023.03.6 in /Users/Andrew/Documents/Projects/Code/Python/Python/lib/python3.9/site-packages (from jsonschema>=2.6->nbformat>=4.2.0->ipywidgets) (2023.7.1)\r\n",
      "Requirement already satisfied: rpds-py>=0.7.1 in /Users/Andrew/Documents/Projects/Code/Python/Python/lib/python3.9/site-packages (from jsonschema>=2.6->nbformat>=4.2.0->ipywidgets) (0.9.2)\r\n",
      "Requirement already satisfied: python-dateutil>=2.1 in /Users/Andrew/Documents/Projects/Code/Python/Python/lib/python3.9/site-packages (from jupyter-client>=6.1.12->ipykernel>=4.5.1->ipywidgets) (2.8.2)\r\n",
      "Requirement already satisfied: platformdirs>=2.5 in /Users/Andrew/Documents/Projects/Code/Python/Python/lib/python3.9/site-packages (from jupyter-core->nbformat>=4.2.0->ipywidgets) (3.10.0)\r\n",
      "Requirement already satisfied: jinja2 in /Users/Andrew/Documents/Projects/Code/Python/Python/lib/python3.9/site-packages (from notebook>=4.4.1->widgetsnbextension~=3.5.0->ipywidgets) (3.1.2)\r\n",
      "Requirement already satisfied: prometheus-client in /Users/Andrew/Documents/Projects/Code/Python/Python/lib/python3.9/site-packages (from notebook>=4.4.1->widgetsnbextension~=3.5.0->ipywidgets) (0.14.1)\r\n",
      "Requirement already satisfied: Send2Trash>=1.8.0 in /Users/Andrew/Documents/Projects/Code/Python/Python/lib/python3.9/site-packages (from notebook>=4.4.1->widgetsnbextension~=3.5.0->ipywidgets) (1.8.0)\r\n",
      "Requirement already satisfied: argon2-cffi in /Users/Andrew/Documents/Projects/Code/Python/Python/lib/python3.9/site-packages (from notebook>=4.4.1->widgetsnbextension~=3.5.0->ipywidgets) (21.3.0)\r\n",
      "Requirement already satisfied: nbconvert>=5 in /Users/Andrew/Documents/Projects/Code/Python/Python/lib/python3.9/site-packages (from notebook>=4.4.1->widgetsnbextension~=3.5.0->ipywidgets) (7.2.1)\r\n",
      "Requirement already satisfied: ipython-genutils in /Users/Andrew/Documents/Projects/Code/Python/Python/lib/python3.9/site-packages (from notebook>=4.4.1->widgetsnbextension~=3.5.0->ipywidgets) (0.2.0)\r\n",
      "Requirement already satisfied: terminado>=0.8.3 in /Users/Andrew/Documents/Projects/Code/Python/Python/lib/python3.9/site-packages (from notebook>=4.4.1->widgetsnbextension~=3.5.0->ipywidgets) (0.16.0)\r\n",
      "Requirement already satisfied: ptyprocess>=0.5 in /Users/Andrew/Documents/Projects/Code/Python/Python/lib/python3.9/site-packages (from pexpect>4.3->ipython>=4.0.0->ipywidgets) (0.7.0)\r\n",
      "Requirement already satisfied: wcwidth in /Users/Andrew/Documents/Projects/Code/Python/Python/lib/python3.9/site-packages (from prompt-toolkit<3.1.0,>3.0.1->ipython>=4.0.0->ipywidgets) (0.2.5)\r\n",
      "Requirement already satisfied: pyparsing!=3.0.5,>=2.0.2 in /Users/Andrew/Documents/Projects/Code/Python/Python/lib/python3.9/site-packages (from packaging->ipykernel>=4.5.1->ipywidgets) (3.0.9)\r\n",
      "Requirement already satisfied: executing in /Users/Andrew/Documents/Projects/Code/Python/Python/lib/python3.9/site-packages (from stack-data->ipython>=4.0.0->ipywidgets) (1.1.1)\r\n",
      "Requirement already satisfied: asttokens in /Users/Andrew/Documents/Projects/Code/Python/Python/lib/python3.9/site-packages (from stack-data->ipython>=4.0.0->ipywidgets) (2.0.8)\r\n",
      "Requirement already satisfied: pure-eval in /Users/Andrew/Documents/Projects/Code/Python/Python/lib/python3.9/site-packages (from stack-data->ipython>=4.0.0->ipywidgets) (0.2.2)\r\n",
      "Requirement already satisfied: tinycss2 in /Users/Andrew/Documents/Projects/Code/Python/Python/lib/python3.9/site-packages (from nbconvert>=5->notebook>=4.4.1->widgetsnbextension~=3.5.0->ipywidgets) (1.1.1)\r\n",
      "Requirement already satisfied: nbclient>=0.5.0 in /Users/Andrew/Documents/Projects/Code/Python/Python/lib/python3.9/site-packages (from nbconvert>=5->notebook>=4.4.1->widgetsnbextension~=3.5.0->ipywidgets) (0.7.0)\r\n",
      "Requirement already satisfied: beautifulsoup4 in /Users/Andrew/Documents/Projects/Code/Python/Python/lib/python3.9/site-packages (from nbconvert>=5->notebook>=4.4.1->widgetsnbextension~=3.5.0->ipywidgets) (4.11.1)\r\n",
      "Requirement already satisfied: defusedxml in /Users/Andrew/Documents/Projects/Code/Python/Python/lib/python3.9/site-packages (from nbconvert>=5->notebook>=4.4.1->widgetsnbextension~=3.5.0->ipywidgets) (0.7.1)\r\n",
      "Requirement already satisfied: mistune<3,>=2.0.3 in /Users/Andrew/Documents/Projects/Code/Python/Python/lib/python3.9/site-packages (from nbconvert>=5->notebook>=4.4.1->widgetsnbextension~=3.5.0->ipywidgets) (2.0.4)\r\n",
      "Requirement already satisfied: bleach in /Users/Andrew/Documents/Projects/Code/Python/Python/lib/python3.9/site-packages (from nbconvert>=5->notebook>=4.4.1->widgetsnbextension~=3.5.0->ipywidgets) (5.0.1)\r\n",
      "Requirement already satisfied: pandocfilters>=1.4.1 in /Users/Andrew/Documents/Projects/Code/Python/Python/lib/python3.9/site-packages (from nbconvert>=5->notebook>=4.4.1->widgetsnbextension~=3.5.0->ipywidgets) (1.5.0)\r\n",
      "Requirement already satisfied: markupsafe>=2.0 in /Users/Andrew/Documents/Projects/Code/Python/Python/lib/python3.9/site-packages (from nbconvert>=5->notebook>=4.4.1->widgetsnbextension~=3.5.0->ipywidgets) (2.1.1)\r\n",
      "Requirement already satisfied: jupyterlab-pygments in /Users/Andrew/Documents/Projects/Code/Python/Python/lib/python3.9/site-packages (from nbconvert>=5->notebook>=4.4.1->widgetsnbextension~=3.5.0->ipywidgets) (0.2.2)\r\n",
      "Requirement already satisfied: importlib-metadata>=3.6 in /Users/Andrew/Documents/Projects/Code/Python/Python/lib/python3.9/site-packages (from nbconvert>=5->notebook>=4.4.1->widgetsnbextension~=3.5.0->ipywidgets) (5.0.0)\r\n",
      "Requirement already satisfied: six>=1.5 in /Users/Andrew/Documents/Projects/Code/Python/Python/lib/python3.9/site-packages (from python-dateutil>=2.1->jupyter-client>=6.1.12->ipykernel>=4.5.1->ipywidgets) (1.16.0)\r\n",
      "Requirement already satisfied: argon2-cffi-bindings in /Users/Andrew/Documents/Projects/Code/Python/Python/lib/python3.9/site-packages (from argon2-cffi->notebook>=4.4.1->widgetsnbextension~=3.5.0->ipywidgets) (21.2.0)\r\n",
      "Requirement already satisfied: zipp>=0.5 in /Users/Andrew/Documents/Projects/Code/Python/Python/lib/python3.9/site-packages (from importlib-metadata>=3.6->nbconvert>=5->notebook>=4.4.1->widgetsnbextension~=3.5.0->ipywidgets) (3.9.0)\r\n",
      "Requirement already satisfied: cffi>=1.0.1 in /Users/Andrew/Documents/Projects/Code/Python/Python/lib/python3.9/site-packages (from argon2-cffi-bindings->argon2-cffi->notebook>=4.4.1->widgetsnbextension~=3.5.0->ipywidgets) (1.15.1)\r\n",
      "Requirement already satisfied: soupsieve>1.2 in /Users/Andrew/Documents/Projects/Code/Python/Python/lib/python3.9/site-packages (from beautifulsoup4->nbconvert>=5->notebook>=4.4.1->widgetsnbextension~=3.5.0->ipywidgets) (2.3.2.post1)\r\n",
      "Requirement already satisfied: webencodings in /Users/Andrew/Documents/Projects/Code/Python/Python/lib/python3.9/site-packages (from bleach->nbconvert>=5->notebook>=4.4.1->widgetsnbextension~=3.5.0->ipywidgets) (0.5.1)\r\n",
      "Requirement already satisfied: pycparser in /Users/Andrew/Documents/Projects/Code/Python/Python/lib/python3.9/site-packages (from cffi>=1.0.1->argon2-cffi-bindings->argon2-cffi->notebook>=4.4.1->widgetsnbextension~=3.5.0->ipywidgets) (2.21)\r\n",
      "\r\n",
      "\u001B[1m[\u001B[0m\u001B[34;49mnotice\u001B[0m\u001B[1;39;49m]\u001B[0m\u001B[39;49m A new release of pip available: \u001B[0m\u001B[31;49m22.3.1\u001B[0m\u001B[39;49m -> \u001B[0m\u001B[32;49m23.2.1\u001B[0m\r\n",
      "\u001B[1m[\u001B[0m\u001B[34;49mnotice\u001B[0m\u001B[1;39;49m]\u001B[0m\u001B[39;49m To update, run: \u001B[0m\u001B[32;49mpip install --upgrade pip\u001B[0m\r\n"
     ]
    }
   ],
   "source": [
    "# we will also need to ensure we are using a compatible ipython widget\n",
    "!pip install ipywidgets"
   ],
   "metadata": {
    "collapsed": false,
    "pycharm": {
     "name": "#%%\n"
    }
   }
  },
  {
   "cell_type": "markdown",
   "source": [
    "When you are using a Python script to connect to your UCSD linked ArcGIS Online account, the authentication is slightly different though as you do not directly pass in your SSO info.\n",
    "\n",
    "![SSO Login](sso.png)\n",
    "\n",
    "Instead you will need to follow the steps listed below in your ArcGIS Online account to generate a unique application ID that can be used to prove your identify. The steps below show how a client id can be obtained by registering a new application with your GIS. Only one client id is required, so if your GIS has one already, you may use it instead of creating a new application.\n",
    "\n",
    "1. Log into your UCSD ArcGIS Online account\n",
    "2. Click on the Content tab\n",
    "3. Click + New Item near the top right of the page. In the popup window that appears click Application to specify the type of item you want to create. On the next page in the popup window, select the button for Other Application then click next. On the final page in the popup window fill in the information below.\n",
    "    - Title: Python\n",
    "    - Tags: python\n",
    "    - Summary: python\n",
    "4. On the Item details page of this newly created application, navigate to the Settings tab\n",
    "5. Click the Registered Info (or register application) button located near the bottom of the page. This will dispaly an App ID. This is your client id and needs to be passed in as the client_id parameter when construcing a GIS object. You need this in your Python code to log in.\n",
    "    - Save this ID elsewhere to make things easier!\n",
    "    - Stay signed in to ArcGIS! We will need it open for this last part.\n",
    "Once you have followed the process and generated a Client ID in ArcGIS Online, use the following Python code in your script but update the test_client_id string to reflect the ID you obtain by following the directions in the API documentation:\n",
    "    - You will be prompted to insert a code along with a webpage opening, simply click allow and copy the code into the prompt.\n",
    "Keep in mind that if you are working on a PC in the standard Python prompt with the Command Prompt application, CTRL-V may not work for pasting in the copied code and you may receive an error about the code being incorrect if you try this approach. Instead just use your mouse to right click in the prompt after you’ve made sure that you’ve copied the authentication code, and then hit Enter on your keyboard – the right click operation should successfully paste in the code and allow the rest of the script to run successfully. If the authentication process is successful the final line of the code provided above should print your user information confirming that the script was able to access your account information without any problems."
   ],
   "metadata": {
    "collapsed": false,
    "pycharm": {
     "name": "#%% md\n"
    }
   }
  },
  {
   "cell_type": "code",
   "execution_count": 7,
   "outputs": [
    {
     "name": "stdout",
     "output_type": "stream",
     "text": [
      "Please sign in to your GIS and paste the code that is obtained below.\n",
      "If a web browser does not automatically open, please navigate to the URL below yourself instead.\n",
      "Opening web browser to navigate to: https://ucsdonline.maps.arcgis.com/sharing/rest/oauth2/authorize?response_type=code&client_id=sBqLj0OKfuK5ef1O&redirect_uri=urn%3Aietf%3Awg%3Aoauth%3A2.0%3Aoob&state=j4MNCWyqb7SZgySYEebhRRSb0jQeg3&allow_verification=false\n"
     ]
    },
    {
     "name": "stderr",
     "output_type": "stream",
     "text": [
      "/Users/Andrew/Documents/Projects/Code/Python/Python/lib/python3.9/site-packages/urllib3/connectionpool.py:1045: InsecureRequestWarning: Unverified HTTPS request is being made to host 'ucsdonline.maps.arcgis.com'. Adding certificate verification is strongly advised. See: https://urllib3.readthedocs.io/en/1.26.x/advanced-usage.html#ssl-warnings\n",
      "  warnings.warn(\n"
     ]
    },
    {
     "name": "stdout",
     "output_type": "stream",
     "text": [
      "<User username:aalona_UCSDOnline>\n"
     ]
    }
   ],
   "source": [
    "import arcgis\n",
    "# test_client_id = 'PASTE_CLIENT_ID_HERE'\n",
    "\n",
    "# Note, you can make things simpler for GIS objects by using\n",
    "from arcgis.gis import GIS\n",
    "gis = GIS('https://ucsdonline.maps.arcgis.com', client_id=test_client_id)\n",
    "print(gis.users.me)"
   ],
   "metadata": {
    "collapsed": false,
    "pycharm": {
     "name": "#%%\n"
    }
   }
  },
  {
   "cell_type": "markdown",
   "source": [
    "If you see something similar to ```<User username:sstudent_UCSDOnline>``` with your own username, congrats! You have connected ArcGIS to Python and are ready for mapping!\n",
    "\n",
    "**From now on you'll only need the code block above to use GIS in Python**"
   ],
   "metadata": {
    "collapsed": false,
    "pycharm": {
     "name": "#%% md\n"
    }
   }
  },
  {
   "cell_type": "markdown",
   "source": [
    "## Lab 2  – GIS and Public health (COVID dashboards and other health trend maps and analysis)\n",
    "\n",
    "This lab aims to introduce you to how to download COVID data, insert spatial data into the program, and utilize attribute queries and joins in a map. This will allow us to look at COVID data in comparison to vulnerable elderly populations. We will cover this lab together step-by-step and this outline below covers what we learned today! Each lab tutorial will end with a final map that will have required you to use several skills within GIS to create.\n",
    "\n",
    "Task: *You are interested in identifying the most susceptible counties in America to COVID-19. Using two layers, we will make a basic map to start this task.*"
   ],
   "metadata": {
    "collapsed": false,
    "pycharm": {
     "name": "#%% md\n"
    }
   }
  },
  {
   "cell_type": "markdown",
   "source": [
    "### Initialize your map\n",
    "\n",
    "This is to create your new map, think of this as an empty canvas. It will look"
   ],
   "metadata": {
    "collapsed": false,
    "pycharm": {
     "name": "#%% md\n"
    }
   }
  },
  {
   "cell_type": "code",
   "execution_count": 8,
   "outputs": [],
   "source": [
    "# Create a GIS map\n",
    "map1 = gis.map()\n"
   ],
   "metadata": {
    "collapsed": false,
    "pycharm": {
     "name": "#%%\n"
    }
   }
  },
  {
   "cell_type": "markdown",
   "source": [
    "### Download and load data:\n",
    "\n",
    "We'll be using the [COVID-19 weekly deaths data](https://data.cdc.gov/Case-Surveillance/Weekly-United-States-COVID-19-Cases-and-Deaths-by-/pwn4-m3yp) in tabular format.\n",
    "\n",
    "We are going to filter the data so it only is for the most recent day within the date column. After downloading the table in CSV format, check the data and make sure that the table looks good for joining (proper data that we need, all columns have zero spaces)."
   ],
   "metadata": {
    "collapsed": false,
    "pycharm": {
     "name": "#%% md\n"
    }
   }
  },
  {
   "cell_type": "code",
   "execution_count": 26,
   "outputs": [
    {
     "data": {
      "text/plain": "  date_updated state  start_date    end_date  tot_cases  new_cases  \\\n0   01/23/2020    AK  01/16/2020  01/22/2020          0          0   \n1   01/30/2020    AK  01/23/2020  01/29/2020          0          0   \n2   02/06/2020    AK  01/30/2020  02/05/2020          0          0   \n3   02/13/2020    AK  02/06/2020  02/12/2020          0          0   \n4   02/20/2020    AK  02/13/2020  02/19/2020          0          0   \n\n   tot_deaths  new_deaths  new_historic_cases  new_historic_deaths  \n0           0           0                   0                    0  \n1           0           0                   0                    0  \n2           0           0                   0                    0  \n3           0           0                   0                    0  \n4           0           0                   0                    0  ",
      "text/html": "<div>\n<style scoped>\n    .dataframe tbody tr th:only-of-type {\n        vertical-align: middle;\n    }\n\n    .dataframe tbody tr th {\n        vertical-align: top;\n    }\n\n    .dataframe thead th {\n        text-align: right;\n    }\n</style>\n<table border=\"1\" class=\"dataframe\">\n  <thead>\n    <tr style=\"text-align: right;\">\n      <th></th>\n      <th>date_updated</th>\n      <th>state</th>\n      <th>start_date</th>\n      <th>end_date</th>\n      <th>tot_cases</th>\n      <th>new_cases</th>\n      <th>tot_deaths</th>\n      <th>new_deaths</th>\n      <th>new_historic_cases</th>\n      <th>new_historic_deaths</th>\n    </tr>\n  </thead>\n  <tbody>\n    <tr>\n      <th>0</th>\n      <td>01/23/2020</td>\n      <td>AK</td>\n      <td>01/16/2020</td>\n      <td>01/22/2020</td>\n      <td>0</td>\n      <td>0</td>\n      <td>0</td>\n      <td>0</td>\n      <td>0</td>\n      <td>0</td>\n    </tr>\n    <tr>\n      <th>1</th>\n      <td>01/30/2020</td>\n      <td>AK</td>\n      <td>01/23/2020</td>\n      <td>01/29/2020</td>\n      <td>0</td>\n      <td>0</td>\n      <td>0</td>\n      <td>0</td>\n      <td>0</td>\n      <td>0</td>\n    </tr>\n    <tr>\n      <th>2</th>\n      <td>02/06/2020</td>\n      <td>AK</td>\n      <td>01/30/2020</td>\n      <td>02/05/2020</td>\n      <td>0</td>\n      <td>0</td>\n      <td>0</td>\n      <td>0</td>\n      <td>0</td>\n      <td>0</td>\n    </tr>\n    <tr>\n      <th>3</th>\n      <td>02/13/2020</td>\n      <td>AK</td>\n      <td>02/06/2020</td>\n      <td>02/12/2020</td>\n      <td>0</td>\n      <td>0</td>\n      <td>0</td>\n      <td>0</td>\n      <td>0</td>\n      <td>0</td>\n    </tr>\n    <tr>\n      <th>4</th>\n      <td>02/20/2020</td>\n      <td>AK</td>\n      <td>02/13/2020</td>\n      <td>02/19/2020</td>\n      <td>0</td>\n      <td>0</td>\n      <td>0</td>\n      <td>0</td>\n      <td>0</td>\n      <td>0</td>\n    </tr>\n  </tbody>\n</table>\n</div>"
     },
     "execution_count": 26,
     "metadata": {},
     "output_type": "execute_result"
    }
   ],
   "source": [
    "COVID_deaths_df = pd.read_csv(\"Weekly_United_States_COVID-19_Cases_and_Deaths_by_State_-_ARCHIVED.csv\")\n",
    "COVID_deaths_df.head()\n",
    "# always make sure your data is ready before working on analyses!"
   ],
   "metadata": {
    "collapsed": false,
    "pycharm": {
     "name": "#%%\n"
    }
   }
  },
  {
   "cell_type": "markdown",
   "source": [
    "Next, we need to use a shapefile to join our COVID table to. In this case, we are looking at the State level, so we will utilize a dataset for state boundaries in the USA taken from [Here](https://www.census.gov/geographies/mapping-files/time-series/geo/carto-boundary-file.html).\n",
    "   - Because we are using arcgis online, we will need to upload or **publish** that local file."
   ],
   "metadata": {
    "collapsed": false,
    "pycharm": {
     "name": "#%% md\n"
    }
   }
  },
  {
   "cell_type": "code",
   "execution_count": 48,
   "outputs": [
    {
     "data": {
      "text/plain": "<Item title:\"United States States Boundary\" type:Feature Layer Collection owner:aalona_UCSDOnline>",
      "text/html": "<div class=\"item_container\" style=\"height: auto; overflow: hidden; border: 1px solid #cfcfcf; border-radius: 2px; background: #f6fafa; line-height: 1.21429em; padding: 10px;\">\n                    <div class=\"item_left\" style=\"width: 210px; float: left;\">\n                       <a href='https://UCSDOnline.maps.arcgis.com/home/item.html?id=c74cb9bc10d74f37bd94b2a1e718226e' target='_blank'>\n                        <img src='http://static.arcgis.com/images/desktopapp.png' class=\"itemThumbnail\">\n                       </a>\n                    </div>\n\n                    <div class=\"item_right\"     style=\"float: none; width: auto; overflow: hidden;\">\n                        <a href='https://UCSDOnline.maps.arcgis.com/home/item.html?id=c74cb9bc10d74f37bd94b2a1e718226e' target='_blank'><b>United States States Boundary</b>\n                        </a>\n                        <br/><img src='https://UCSDOnline.maps.arcgis.com/home/js/jsapi/esri/css/images/item_type_icons/featureshosted16.png' style=\"vertical-align:middle;\">Feature Layer Collection by aalona_UCSDOnline\n                        <br/>Last Modified: August 16, 2023\n                        <br/>0 comments, 0 views\n                    </div>\n                </div>\n                "
     },
     "execution_count": 48,
     "metadata": {},
     "output_type": "execute_result"
    }
   ],
   "source": [
    "# add in the name of your shapefile here\n",
    "#shapefile_path = r'path\\to\\your\\shapefile\\shapefile_name.zip'\n",
    "shapefile_location = 'cb_2018_us_state_20m.zip'\n",
    "\n",
    "# these properties are the exact same as you see in ArcGIS Online, just as an object\n",
    "shapefile_properties = {\n",
    "    'title': 'United States States Boundary',\n",
    "    'tags': 'shapefile, United States',\n",
    "    'type': 'Shapefile',\n",
    "    'access': 'private'\n",
    "}\n",
    "\n",
    "# Upload shapefile\n",
    "shapefile_states_item = gis.content.add(shapefile_properties, data=shapefile_location)\n",
    "# Access uploaded file\n",
    "shapefile_states_item\n",
    "\n",
    "# Publishing\n",
    "published_states_feature_layer_item = shapefile_states_item.publish()\n",
    "published_states_feature_layer_item"
   ],
   "metadata": {
    "collapsed": false,
    "pycharm": {
     "name": "#%%\n"
    }
   }
  },
  {
   "cell_type": "markdown",
   "source": [
    "Having an instant publish setup is very powerful as you could upload a list of multiple shapefiles and more to ArcGIS Online!\n",
    "\n",
    "Here's all possible parameters for item_properties:\n",
    "\n",
    "    'title': The title of the item.\n",
    "    'type': The type of the item (e.g., 'Shapefile', 'CSV', 'Feature Service', etc.).\n",
    "    'tags': Comma-separated list of tags associated with the item.\n",
    "    'snippet': A short description or summary of the item.\n",
    "    'description': A detailed description of the item.\n",
    "    'access': The access level of the item ('public', 'private', 'shared').\n",
    "    'licenseInfo': Information about the item's licensing.\n",
    "    'culture': The culture/locale of the item's content (e.g., 'en-us').\n",
    "    'thumbnail': The URL or file path to a thumbnail image for the item.\n",
    "\n",
    "\n",
    "Now let's do the same for our csv!"
   ],
   "metadata": {
    "collapsed": false
   }
  },
  {
   "cell_type": "code",
   "execution_count": 49,
   "outputs": [
    {
     "data": {
      "text/plain": "<Item title:\"COVID-19 Deaths by State\" type:Feature Layer Collection owner:aalona_UCSDOnline>",
      "text/html": "<div class=\"item_container\" style=\"height: auto; overflow: hidden; border: 1px solid #cfcfcf; border-radius: 2px; background: #f6fafa; line-height: 1.21429em; padding: 10px;\">\n                    <div class=\"item_left\" style=\"width: 210px; float: left;\">\n                       <a href='https://UCSDOnline.maps.arcgis.com/home/item.html?id=f1a85cf0b3b94b4bb378cef0106c1400' target='_blank'>\n                        <img src='http://static.arcgis.com/images/desktopapp.png' class=\"itemThumbnail\">\n                       </a>\n                    </div>\n\n                    <div class=\"item_right\"     style=\"float: none; width: auto; overflow: hidden;\">\n                        <a href='https://UCSDOnline.maps.arcgis.com/home/item.html?id=f1a85cf0b3b94b4bb378cef0106c1400' target='_blank'><b>COVID-19 Deaths by State</b>\n                        </a>\n                        <br/><img src='https://UCSDOnline.maps.arcgis.com/home/js/jsapi/esri/css/images/item_type_icons/featureshosted16.png' style=\"vertical-align:middle;\">Feature Layer Collection by aalona_UCSDOnline\n                        <br/>Last Modified: August 16, 2023\n                        <br/>0 comments, 0 views\n                    </div>\n                </div>\n                "
     },
     "execution_count": 49,
     "metadata": {},
     "output_type": "execute_result"
    }
   ],
   "source": [
    "# csv_path = r'path\\to\\your\\csv\\csv_name.csv'\n",
    "csv_file = 'Weekly_United_States_COVID-19_Cases_and_Deaths_by_State_-_ARCHIVED.csv'\n",
    "\n",
    "# Define item properties for CSV\n",
    "States_properties = {\n",
    "    'title': 'COVID-19 Deaths by State',\n",
    "    'tags': 'COVID-19, deaths, CSV',\n",
    "    'type': 'CSV',\n",
    "    'access': 'private'\n",
    "}\n",
    "\n",
    "# Upload CSV file\n",
    "csv_COVID_deaths_item = gis.content.add(States_properties, csv_file)\n",
    "# Then Publish said file\n",
    "published_csv_COVID_death = csv_COVID_deaths_item.publish()\n",
    "\n",
    "# Access uploaded file\n",
    "published_csv_COVID_death"
   ],
   "metadata": {
    "collapsed": false,
    "pycharm": {
     "name": "#%%\n"
    }
   }
  },
  {
   "cell_type": "markdown",
   "source": [
    "What you've just uploaded is fully accessibly from ArcGIS Online. If you ever need to access the files immediately using your browser, you can simple use ```.url``` to find the link.\n",
    "\n",
    "If you no longer have the object loaded, why not try searching for it like the following?"
   ],
   "metadata": {
    "collapsed": false,
    "pycharm": {
     "name": "#%% md\n"
    }
   }
  },
  {
   "cell_type": "code",
   "execution_count": 55,
   "outputs": [
    {
     "data": {
      "text/plain": "[<Item title:\"United States States Boundary\" type:Feature Layer Collection owner:aalona_UCSDOnline>,\n <Item title:\"United States States Boundary\" type:Shapefile owner:aalona_UCSDOnline>,\n <Item title:\"Aggregation_of_mclocations_to_United_States_State_Boundaries_2018\" type:Feature Layer Collection owner:abchin_dsc170fa20>]"
     },
     "execution_count": 55,
     "metadata": {},
     "output_type": "execute_result"
    }
   ],
   "source": [
    "query = 'title: \"YOUR PUBLISHED TITLE HERE\"'\n",
    "search_results = gis.content.search(query=query, max_items=10)\n",
    "search_results"
   ],
   "metadata": {
    "collapsed": false,
    "pycharm": {
     "name": "#%%\n"
    }
   }
  },
  {
   "cell_type": "markdown",
   "source": [
    "Try to find the correct item of your States Boundaries using slicing and load it in.\n",
    "Hint: We are looking for feature layers, aka the published shapefile."
   ],
   "metadata": {
    "collapsed": false,
    "pycharm": {
     "name": "#%% md\n"
    }
   }
  },
  {
   "cell_type": "code",
   "execution_count": 56,
   "outputs": [
    {
     "data": {
      "text/plain": "'https://services1.arcgis.com/eGSDp8lpKe5izqVc/arcgis/rest/services/Aggregation_of_mclocations_to_United_States_State_Boundaries_2018/FeatureServer'"
     },
     "execution_count": 56,
     "metadata": {},
     "output_type": "execute_result"
    }
   ],
   "source": [
    "# Try finding the correct item using slicing\n",
    "published_states_feature_layer_item = search_results[99] # FIX HERE\n",
    "published_states_feature_layer_item.url"
   ],
   "metadata": {
    "collapsed": false,
    "pycharm": {
     "name": "#%%\n"
    }
   }
  },
  {
   "cell_type": "code",
   "execution_count": 57,
   "outputs": [
    {
     "data": {
      "text/plain": "'Aggregation_of_mclocations_to_United_States_State_Boundaries_2018'"
     },
     "execution_count": 57,
     "metadata": {},
     "output_type": "execute_result"
    }
   ],
   "source": [
    "# You can even extract individual layers from your layer items\n",
    "feature_layers = published_states_feature_layer_item.layers\n",
    "states_layer = feature_layers[0]\n",
    "# in this case we only have 1\n",
    "states_layer.properties.name\n"
   ],
   "metadata": {
    "collapsed": false,
    "pycharm": {
     "name": "#%%\n"
    }
   }
  },
  {
   "cell_type": "markdown",
   "source": [
    "Let's go ahead and upload our 65 and over census data."
   ],
   "metadata": {
    "collapsed": false,
    "pycharm": {
     "name": "#%% md\n"
    }
   }
  },
  {
   "cell_type": "code",
   "execution_count": null,
   "outputs": [],
   "source": [
    "csv_path = 'FIX HERE'\n",
    "\n",
    "# Define item properties for CSV\n",
    "csv_properties = {\n",
    "'FILL IN HERE'\n",
    "}\n",
    "\n",
    "# Upload CSV file\n",
    "uploaded_csv_elderly_population = # FIX HERE\n",
    "\n",
    "# Then Publish said file\n",
    "published_csv_elderly_population = # FIX HERE\n",
    "\n",
    "# Access uploaded file\n",
    "published_csv_elderly_population"
   ],
   "metadata": {
    "collapsed": false,
    "pycharm": {
     "name": "#%%\n"
    }
   }
  },
  {
   "cell_type": "markdown",
   "source": [
    "And that's it for now! We can get back to mapping in online ArcGIS.\n",
    "\n",
    "Later we will go over how to map and edit layers in Python itself!"
   ],
   "metadata": {
    "collapsed": false,
    "pycharm": {
     "name": "#%% md\n"
    }
   }
  }
 ],
 "metadata": {
  "kernelspec": {
   "display_name": "Python 3",
   "language": "python",
   "name": "python3"
  },
  "language_info": {
   "codemirror_mode": {
    "name": "ipython",
    "version": 2
   },
   "file_extension": ".py",
   "mimetype": "text/x-python",
   "name": "python",
   "nbconvert_exporter": "python",
   "pygments_lexer": "ipython2",
   "version": "2.7.6"
  }
 },
 "nbformat": 4,
 "nbformat_minor": 0
}